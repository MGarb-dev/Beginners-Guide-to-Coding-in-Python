{
  "nbformat": 4,
  "nbformat_minor": 0,
  "metadata": {
    "colab": {
      "provenance": [],
      "authorship_tag": "ABX9TyOBlFUDdERku05Ts7iVZ96x",
      "include_colab_link": true
    },
    "kernelspec": {
      "name": "python3",
      "display_name": "Python 3"
    },
    "language_info": {
      "name": "python"
    }
  },
  "cells": [
    {
      "cell_type": "markdown",
      "metadata": {
        "id": "view-in-github",
        "colab_type": "text"
      },
      "source": [
        "<a href=\"https://colab.research.google.com/github/MGarb-dev/Beginners-Guide-to-Coding-in-Python/blob/main/Pyhton_Basics.ipynb\" target=\"_parent\"><img src=\"https://colab.research.google.com/assets/colab-badge.svg\" alt=\"Open In Colab\"/></a>"
      ]
    },
    {
      "cell_type": "code",
      "execution_count": null,
      "metadata": {
        "colab": {
          "base_uri": "https://localhost:8080/"
        },
        "id": "ys0odLOaJwqy",
        "outputId": "073d61c2-90d9-4686-add2-262b5acc3122"
      },
      "outputs": [
        {
          "output_type": "stream",
          "name": "stdout",
          "text": [
            "False\n",
            "<class 'bool'>\n",
            "3\n",
            "<class 'int'>\n",
            "0.95\n",
            "<class 'float'>\n",
            "Michael\n",
            "<class 'str'>\n"
          ]
        }
      ],
      "source": [
        "is_game_over = False\n",
        "lives_remaining = 3\n",
        "percent_health = .95\n",
        "player_name = \"Michael\"\n",
        "\n",
        "print(is_game_over)\n",
        "print(type(is_game_over))\n",
        "print(lives_remaining)\n",
        "print(type(lives_remaining))\n",
        "print(percent_health)\n",
        "print(type(percent_health))\n",
        "print(player_name)\n",
        "print(type(player_name))\n"
      ]
    },
    {
      "cell_type": "code",
      "source": [
        "print(type(str(lives_remaining)))\n",
        "print(type(lives_remaining))"
      ],
      "metadata": {
        "colab": {
          "base_uri": "https://localhost:8080/"
        },
        "id": "2t9M18nmLjY7",
        "outputId": "d615269f-3377-40fb-855d-b2822fb52f01"
      },
      "execution_count": null,
      "outputs": [
        {
          "output_type": "stream",
          "name": "stdout",
          "text": [
            "<class 'str'>\n",
            "<class 'int'>\n"
          ]
        }
      ]
    },
    {
      "cell_type": "code",
      "source": [
        "print(bool(0))\n",
        "print(bool(1))\n",
        "print(bool(0.1))\n",
        "print(bool(\"False\"))"
      ],
      "metadata": {
        "colab": {
          "base_uri": "https://localhost:8080/"
        },
        "id": "5qkNnbNLNZLA",
        "outputId": "0d294845-943d-43f1-c1d6-22535ba340d6"
      },
      "execution_count": null,
      "outputs": [
        {
          "output_type": "stream",
          "name": "stdout",
          "text": [
            "False\n",
            "True\n",
            "True\n",
            "True\n"
          ]
        }
      ]
    },
    {
      "cell_type": "code",
      "source": [
        "# print(int(\"hello\")) crashes\n",
        "\n",
        "print(int(\"234\"))\n",
        "print(int(8.56))\n",
        "print(int(False))\n",
        "print(int(True))"
      ],
      "metadata": {
        "colab": {
          "base_uri": "https://localhost:8080/"
        },
        "id": "M1ndog2CNzr9",
        "outputId": "1bcd71a5-a2b2-4aa8-d508-e53005635404"
      },
      "execution_count": null,
      "outputs": [
        {
          "output_type": "stream",
          "name": "stdout",
          "text": [
            "234\n",
            "8\n",
            "0\n",
            "1\n"
          ]
        }
      ]
    },
    {
      "cell_type": "code",
      "source": [
        "print(float(234))\n",
        "print(float(\"8.56\"))\n",
        "print(float(False))\n",
        "print(float(True))"
      ],
      "metadata": {
        "colab": {
          "base_uri": "https://localhost:8080/"
        },
        "id": "tc6yQshnOv1f",
        "outputId": "7a0c1605-d92a-4099-c223-9c6f2d28cf4f"
      },
      "execution_count": null,
      "outputs": [
        {
          "output_type": "stream",
          "name": "stdout",
          "text": [
            "234.0\n",
            "8.56\n",
            "0.0\n",
            "1.0\n"
          ]
        }
      ]
    },
    {
      "cell_type": "code",
      "source": [
        "health = 50\n",
        "new_health = health + 20\n",
        "print(health)\n",
        "health = health + 20\n",
        "print(health)\n",
        "\n",
        "xPos = 5\n",
        "print(xPos % 2)\n",
        "print(xPos // 2)\n",
        "print(xPos ** 2)\n",
        "\n",
        "first_name = \"Michael\"\n",
        "last_name = \"Garber\"\n",
        "print(first_name + \" \" + last_name)"
      ],
      "metadata": {
        "colab": {
          "base_uri": "https://localhost:8080/"
        },
        "id": "hj16OxJVPJLZ",
        "outputId": "e0dabf3b-5db9-44a9-d8a1-c66046f38ddb"
      },
      "execution_count": null,
      "outputs": [
        {
          "output_type": "stream",
          "name": "stdout",
          "text": [
            "50\n",
            "70\n",
            "1\n",
            "2\n",
            "25\n",
            "Michael Garber\n"
          ]
        }
      ]
    },
    {
      "cell_type": "code",
      "source": [
        "result = 5 > 2\n",
        "print(result)\n",
        "print(5 == 2)\n",
        "print(5 != health)"
      ],
      "metadata": {
        "colab": {
          "base_uri": "https://localhost:8080/"
        },
        "id": "MEeQw1ZCSVsY",
        "outputId": "a30aa1d2-95c6-4497-cdc3-f03e870aec7f"
      },
      "execution_count": null,
      "outputs": [
        {
          "output_type": "stream",
          "name": "stdout",
          "text": [
            "True\n",
            "False\n",
            "True\n"
          ]
        }
      ]
    },
    {
      "cell_type": "code",
      "source": [
        "print(True == False)\n",
        "print(first_name == last_name)\n",
        "print(\"a\" == \"A\")\n",
        "print(\"a\" > \"b\")\n",
        "print(\"a\" < \"b\")\n",
        "print(\"aa\" > \"b\")\n",
        "print(\"aa\" < \"b\")"
      ],
      "metadata": {
        "colab": {
          "base_uri": "https://localhost:8080/"
        },
        "id": "aUSjN5zNT_qV",
        "outputId": "c20aa2bf-68c8-4dd1-867a-ad6510ec1a43"
      },
      "execution_count": null,
      "outputs": [
        {
          "output_type": "stream",
          "name": "stdout",
          "text": [
            "False\n",
            "False\n",
            "False\n",
            "False\n",
            "True\n",
            "False\n",
            "True\n"
          ]
        }
      ]
    },
    {
      "cell_type": "code",
      "source": [
        "# not and or\n",
        "is_game_over = False\n",
        "is_game_over = not is_game_over\n",
        "print(is_game_over)\n",
        "\n",
        "health = 0\n",
        "lives = 0\n",
        "print(health <= 0 and lives <= 0)\n",
        "\n",
        "lives = 1\n",
        "print(health <= 0 and lives <= 0)\n",
        "print(health <= 0 or lives <= 0)"
      ],
      "metadata": {
        "colab": {
          "base_uri": "https://localhost:8080/"
        },
        "id": "YGOoHl2FVMrX",
        "outputId": "fa76c1e3-4fa4-4ae2-e157-d92f64f0f40f"
      },
      "execution_count": null,
      "outputs": [
        {
          "output_type": "stream",
          "name": "stdout",
          "text": [
            "True\n",
            "True\n",
            "False\n",
            "True\n"
          ]
        }
      ]
    },
    {
      "cell_type": "code",
      "source": [
        "#Lists\n",
        "inventory = [\"Sword\", \"Bread\", \"Boots\"]\n",
        "sword = inventory[0]\n",
        "print(inventory)\n",
        "print(sword)\n",
        "inventory[1] = \"Apple Pie\"\n",
        "print(inventory)"
      ],
      "metadata": {
        "id": "VGDfrYWoWULd",
        "colab": {
          "base_uri": "https://localhost:8080/"
        },
        "outputId": "b2941da4-3f9e-4c15-eb6a-4c55f83a14b8"
      },
      "execution_count": 2,
      "outputs": [
        {
          "output_type": "stream",
          "name": "stdout",
          "text": [
            "['Sword', 'Bread', 'Boots']\n",
            "Sword\n",
            "['Sword', 'Apple Pie', 'Boots']\n"
          ]
        }
      ]
    },
    {
      "cell_type": "code",
      "source": [
        "inventory = [\"Sword\", \"Bread\", \"Boots\"]\n",
        "print(len(inventory))\n",
        "print(max(inventory))\n",
        "print(min(inventory))\n",
        "\n",
        "inventory.append(\"Helm\")\n",
        "print(inventory)\n",
        "inventory.insert(0, \"Dr. Stabby\")\n",
        "print(inventory)\n",
        "inventory.pop()   #removes last item in list\n",
        "print(inventory)\n",
        "inventory.remove('Sword')\n",
        "print(inventory)\n",
        "inventory.clear()\n",
        "print(inventory)"
      ],
      "metadata": {
        "colab": {
          "base_uri": "https://localhost:8080/"
        },
        "id": "Cguly17qZqMw",
        "outputId": "970fccc0-1b83-49c7-e0a2-088b7ec62912"
      },
      "execution_count": 9,
      "outputs": [
        {
          "output_type": "stream",
          "name": "stdout",
          "text": [
            "3\n",
            "Sword\n",
            "Boots\n",
            "['Sword', 'Bread', 'Boots', 'Helm']\n",
            "['Dr. Stabby', 'Sword', 'Bread', 'Boots', 'Helm']\n",
            "['Dr. Stabby', 'Sword', 'Bread', 'Boots']\n",
            "['Dr. Stabby', 'Bread', 'Boots']\n",
            "[]\n"
          ]
        }
      ]
    },
    {
      "cell_type": "code",
      "source": [
        "universe = [[1, 2, 3],\n",
        "            [1, 2, 3, 4],\n",
        "            [2, 3, 4, 5],\n",
        "            [3, 4, 5, 6]]\n",
        "\n",
        "ninth_world = universe[2][1]\n",
        "ninth_world = 45\n",
        "universe.append([4, 5, 6, 7])\n",
        "\n",
        "universe[0].append(4)\n",
        "universe.pop()\n",
        "\n",
        "print(ninth_world)\n",
        "print(universe)"
      ],
      "metadata": {
        "colab": {
          "base_uri": "https://localhost:8080/"
        },
        "id": "DLLPA1ZQZqWu",
        "outputId": "323291fd-285d-4884-b73a-d01056576e05"
      },
      "execution_count": 20,
      "outputs": [
        {
          "output_type": "stream",
          "name": "stdout",
          "text": [
            "45\n",
            "[[1, 2, 3, 4], [1, 2, 3, 4], [2, 3, 4, 5], [3, 4, 5, 6]]\n"
          ]
        }
      ]
    },
    {
      "cell_type": "code",
      "source": [
        "item = (\"Med Kit\", 4)\n",
        "name = item[0]\n",
        "quantity = item[1]\n",
        "\n",
        "#item[1] = 10     wont work tuples imutable\n",
        "\n",
        "item = (\"Dr Stabby\", 1)\n",
        "print(item)\n",
        "\n",
        "print(name)\n",
        "print(quantity)\n",
        "\n",
        "print(item.count(\"Knife\"))\n",
        "print(item.count(\"Dr Stabby\"))\n",
        "print(item.index(\"Dr Stabby\"))\n",
        "#print(item.index(\"Knife\"))  error"
      ],
      "metadata": {
        "colab": {
          "base_uri": "https://localhost:8080/"
        },
        "id": "A2C_ItTvZqfq",
        "outputId": "8ba3d7da-02e5-4659-b1c9-713c12d5aa37"
      },
      "execution_count": 19,
      "outputs": [
        {
          "output_type": "stream",
          "name": "stdout",
          "text": [
            "('Dr Stabby', 1)\n",
            "0\n",
            "1\n",
            "0\n",
            "Med Kit\n",
            "4\n"
          ]
        }
      ]
    },
    {
      "cell_type": "code",
      "source": [
        "# dictionaries\n",
        "\n",
        "inventory = {\"Knife\": 1, \"Med Kit\": 3, \"Wood\": 5}\n",
        "print(inventory[\"Med Kit\"])\n",
        "\n",
        "inventory[\"Knife\"] = 2\n",
        "print(inventory)\n",
        "\n",
        "inventory[\"Gold\"] = 50\n",
        "print(inventory)\n",
        "\n"
      ],
      "metadata": {
        "colab": {
          "base_uri": "https://localhost:8080/"
        },
        "id": "7LPZgGSVjBIW",
        "outputId": "da30d245-b8fd-41de-cc65-41641208d912"
      },
      "execution_count": 24,
      "outputs": [
        {
          "output_type": "stream",
          "name": "stdout",
          "text": [
            "3\n",
            "{'Knife': 2, 'Med Kit': 3, 'Wood': 5}\n",
            "{'Knife': 2, 'Med Kit': 3, 'Wood': 5, 'Gold': 50}\n"
          ]
        }
      ]
    },
    {
      "cell_type": "code",
      "source": [
        "#more dictionary stuff\n",
        "inventory = {\"Knife\": 1, \"Med Kit\": 3, \"Wood\": 5}\n",
        "\n",
        "print(inventory.get(\"Gold\"))\n",
        "print(inventory.keys())\n",
        "print(inventory.values())\n",
        "\n",
        "inventory.pop(\"Knife\")\n",
        "print(inventory)\n"
      ],
      "metadata": {
        "colab": {
          "base_uri": "https://localhost:8080/"
        },
        "id": "5S6AEb0GkyzF",
        "outputId": "2930ab16-0225-4a6d-c6f8-661e7650a6a9"
      },
      "execution_count": 30,
      "outputs": [
        {
          "output_type": "stream",
          "name": "stdout",
          "text": [
            "None\n",
            "dict_keys(['Knife', 'Med Kit', 'Wood'])\n",
            "dict_values([1, 3, 5])\n",
            "{'Med Kit': 3, 'Wood': 5}\n"
          ]
        }
      ]
    },
    {
      "cell_type": "code",
      "source": [
        "#Ranges\n",
        "\n",
        "# range(x, y, z)\n",
        "# x = first int included in range\n",
        "# y = end point of range NOT INCLUDED\n",
        "# z = step  IE step 2 = every other int\n",
        "\n"
      ],
      "metadata": {
        "id": "FyzpO_pAmVN1"
      },
      "execution_count": null,
      "outputs": []
    }
  ]
}