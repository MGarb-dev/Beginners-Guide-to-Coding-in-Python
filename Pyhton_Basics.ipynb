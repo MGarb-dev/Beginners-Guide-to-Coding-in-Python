{
  "nbformat": 4,
  "nbformat_minor": 0,
  "metadata": {
    "colab": {
      "provenance": [],
      "authorship_tag": "ABX9TyOBlFUDdERku05Ts7iVZ96x",
      "include_colab_link": true
    },
    "kernelspec": {
      "name": "python3",
      "display_name": "Python 3"
    },
    "language_info": {
      "name": "python"
    }
  },
  "cells": [
    {
      "cell_type": "markdown",
      "metadata": {
        "id": "view-in-github",
        "colab_type": "text"
      },
      "source": [
        "<a href=\"https://colab.research.google.com/github/MGarb-dev/Beginners-Guide-to-Coding-in-Python/blob/main/Pyhton_Basics.ipynb\" target=\"_parent\"><img src=\"https://colab.research.google.com/assets/colab-badge.svg\" alt=\"Open In Colab\"/></a>"
      ]
    },
    {
      "cell_type": "code",
      "execution_count": 1,
      "metadata": {
        "colab": {
          "base_uri": "https://localhost:8080/"
        },
        "id": "ys0odLOaJwqy",
        "outputId": "1e72744f-7c78-425b-dff2-2795271dc486"
      },
      "outputs": [
        {
          "output_type": "stream",
          "name": "stdout",
          "text": [
            "False\n",
            "<class 'bool'>\n",
            "3\n",
            "<class 'int'>\n",
            "0.95\n",
            "<class 'float'>\n",
            "Michael\n",
            "<class 'str'>\n"
          ]
        }
      ],
      "source": [
        "is_game_over = False\n",
        "lives_remaining = 3\n",
        "percent_health = .95\n",
        "player_name = \"Michael\"\n",
        "\n",
        "print(is_game_over)\n",
        "print(type(is_game_over))\n",
        "print(lives_remaining)\n",
        "print(type(lives_remaining))\n",
        "print(percent_health)\n",
        "print(type(percent_health))\n",
        "print(player_name)\n",
        "print(type(player_name))\n"
      ]
    },
    {
      "cell_type": "code",
      "source": [
        "print(type(str(lives_remaining)))\n",
        "print(type(lives_remaining))"
      ],
      "metadata": {
        "colab": {
          "base_uri": "https://localhost:8080/"
        },
        "id": "2t9M18nmLjY7",
        "outputId": "e3d183d9-cf8f-4ba8-da70-e93026237f97"
      },
      "execution_count": 2,
      "outputs": [
        {
          "output_type": "stream",
          "name": "stdout",
          "text": [
            "<class 'str'>\n",
            "<class 'int'>\n"
          ]
        }
      ]
    },
    {
      "cell_type": "code",
      "source": [
        "print(bool(0))\n",
        "print(bool(1))\n",
        "print(bool(0.1))\n",
        "print(bool(\"False\"))"
      ],
      "metadata": {
        "colab": {
          "base_uri": "https://localhost:8080/"
        },
        "id": "5qkNnbNLNZLA",
        "outputId": "24b80625-b935-4321-e2fb-9e183a49dc32"
      },
      "execution_count": 3,
      "outputs": [
        {
          "output_type": "stream",
          "name": "stdout",
          "text": [
            "False\n",
            "True\n",
            "True\n",
            "True\n"
          ]
        }
      ]
    },
    {
      "cell_type": "code",
      "source": [
        "# print(int(\"hello\")) crashes\n",
        "\n",
        "print(int(\"234\"))\n",
        "print(int(8.56))\n",
        "print(int(False))\n",
        "print(int(True))"
      ],
      "metadata": {
        "colab": {
          "base_uri": "https://localhost:8080/"
        },
        "id": "M1ndog2CNzr9",
        "outputId": "8267b833-1172-405f-f386-30a135d6a691"
      },
      "execution_count": 4,
      "outputs": [
        {
          "output_type": "stream",
          "name": "stdout",
          "text": [
            "234\n",
            "8\n",
            "0\n",
            "1\n"
          ]
        }
      ]
    },
    {
      "cell_type": "code",
      "source": [
        "print(float(234))\n",
        "print(float(\"8.56\"))\n",
        "print(float(False))\n",
        "print(float(True))"
      ],
      "metadata": {
        "colab": {
          "base_uri": "https://localhost:8080/"
        },
        "id": "tc6yQshnOv1f",
        "outputId": "9b2693e9-19fc-49ac-c704-65bf61250db9"
      },
      "execution_count": 5,
      "outputs": [
        {
          "output_type": "stream",
          "name": "stdout",
          "text": [
            "234.0\n",
            "8.56\n",
            "0.0\n",
            "1.0\n"
          ]
        }
      ]
    },
    {
      "cell_type": "code",
      "source": [
        "health = 50\n",
        "new_health = health + 20\n",
        "print(health)\n",
        "health = health + 20\n",
        "print(health)\n",
        "\n",
        "xPos = 5\n",
        "print(xPos % 2)\n",
        "print(xPos // 2)\n",
        "print(xPos ** 2)\n",
        "\n",
        "first_name = \"Michael\"\n",
        "last_name = \"Garber\"\n",
        "print(first_name + \" \" + last_name)"
      ],
      "metadata": {
        "colab": {
          "base_uri": "https://localhost:8080/"
        },
        "id": "hj16OxJVPJLZ",
        "outputId": "8587f9c3-b9cf-43b8-e463-eb451e066e84"
      },
      "execution_count": 6,
      "outputs": [
        {
          "output_type": "stream",
          "name": "stdout",
          "text": [
            "50\n",
            "70\n",
            "1\n",
            "2\n",
            "25\n",
            "Michael Garber\n"
          ]
        }
      ]
    },
    {
      "cell_type": "code",
      "source": [
        "result = 5 > 2\n",
        "print(result)\n",
        "print(5 == 2)\n",
        "print(5 != health)"
      ],
      "metadata": {
        "colab": {
          "base_uri": "https://localhost:8080/"
        },
        "id": "MEeQw1ZCSVsY",
        "outputId": "ac224e80-e70f-4aec-a7e5-e1f7e8896d33"
      },
      "execution_count": 7,
      "outputs": [
        {
          "output_type": "stream",
          "name": "stdout",
          "text": [
            "True\n",
            "False\n",
            "True\n"
          ]
        }
      ]
    },
    {
      "cell_type": "code",
      "source": [
        "print(True == False)\n",
        "print(first_name == last_name)\n",
        "print(\"a\" == \"A\")\n",
        "print(\"a\" > \"b\")\n",
        "print(\"a\" < \"b\")\n",
        "print(\"aa\" > \"b\")\n",
        "print(\"aa\" < \"b\")"
      ],
      "metadata": {
        "colab": {
          "base_uri": "https://localhost:8080/"
        },
        "id": "aUSjN5zNT_qV",
        "outputId": "ce3d94bf-8657-4bb8-f63f-c1f07d51c3ca"
      },
      "execution_count": 8,
      "outputs": [
        {
          "output_type": "stream",
          "name": "stdout",
          "text": [
            "False\n",
            "False\n",
            "False\n",
            "False\n",
            "True\n",
            "False\n",
            "True\n"
          ]
        }
      ]
    },
    {
      "cell_type": "code",
      "source": [
        "# not and or\n",
        "is_game_over = False\n",
        "is_game_over = not is_game_over\n",
        "print(is_game_over)\n",
        "\n",
        "health = 0\n",
        "lives = 0\n",
        "print(health <= 0 and lives <= 0)\n",
        "\n",
        "lives = 1\n",
        "print(health <= 0 and lives <= 0)\n",
        "print(health <= 0 or lives <= 0)"
      ],
      "metadata": {
        "colab": {
          "base_uri": "https://localhost:8080/"
        },
        "id": "YGOoHl2FVMrX",
        "outputId": "0be9178e-ca33-4227-c529-abaee8ad5a54"
      },
      "execution_count": 9,
      "outputs": [
        {
          "output_type": "stream",
          "name": "stdout",
          "text": [
            "True\n",
            "True\n",
            "False\n",
            "True\n"
          ]
        }
      ]
    },
    {
      "cell_type": "code",
      "source": [
        "#Lists\n",
        "inventory = [\"Sword\", \"Bread\", \"Boots\"]\n",
        "sword = inventory[0]\n",
        "print(inventory)\n",
        "print(sword)\n",
        "inventory[1] = \"Apple Pie\"\n",
        "print(inventory)"
      ],
      "metadata": {
        "id": "VGDfrYWoWULd",
        "colab": {
          "base_uri": "https://localhost:8080/"
        },
        "outputId": "a6b382c7-3463-498e-8119-179ededd2a3b"
      },
      "execution_count": 10,
      "outputs": [
        {
          "output_type": "stream",
          "name": "stdout",
          "text": [
            "['Sword', 'Bread', 'Boots']\n",
            "Sword\n",
            "['Sword', 'Apple Pie', 'Boots']\n"
          ]
        }
      ]
    },
    {
      "cell_type": "code",
      "source": [
        "inventory = [\"Sword\", \"Bread\", \"Boots\"]\n",
        "print(len(inventory))\n",
        "print(max(inventory))\n",
        "print(min(inventory))\n",
        "\n",
        "inventory.append(\"Helm\")\n",
        "print(inventory)\n",
        "inventory.insert(0, \"Dr. Stabby\")\n",
        "print(inventory)\n",
        "inventory.pop()   #removes last item in list\n",
        "print(inventory)\n",
        "inventory.remove('Sword')\n",
        "print(inventory)\n",
        "inventory.clear()\n",
        "print(inventory)"
      ],
      "metadata": {
        "colab": {
          "base_uri": "https://localhost:8080/"
        },
        "id": "Cguly17qZqMw",
        "outputId": "bd1d7c7d-7207-488a-c58d-330c07ed0c58"
      },
      "execution_count": 11,
      "outputs": [
        {
          "output_type": "stream",
          "name": "stdout",
          "text": [
            "3\n",
            "Sword\n",
            "Boots\n",
            "['Sword', 'Bread', 'Boots', 'Helm']\n",
            "['Dr. Stabby', 'Sword', 'Bread', 'Boots', 'Helm']\n",
            "['Dr. Stabby', 'Sword', 'Bread', 'Boots']\n",
            "['Dr. Stabby', 'Bread', 'Boots']\n",
            "[]\n"
          ]
        }
      ]
    },
    {
      "cell_type": "code",
      "source": [
        "universe = [[1, 2, 3],\n",
        "            [1, 2, 3, 4],\n",
        "            [2, 3, 4, 5],\n",
        "            [3, 4, 5, 6]]\n",
        "\n",
        "ninth_world = universe[2][1]\n",
        "ninth_world = 45\n",
        "universe.append([4, 5, 6, 7])\n",
        "\n",
        "universe[0].append(4)\n",
        "universe.pop()\n",
        "\n",
        "print(ninth_world)\n",
        "print(universe)"
      ],
      "metadata": {
        "colab": {
          "base_uri": "https://localhost:8080/"
        },
        "id": "DLLPA1ZQZqWu",
        "outputId": "05ec52e7-2c29-4cfd-9af1-296b91662c51"
      },
      "execution_count": 12,
      "outputs": [
        {
          "output_type": "stream",
          "name": "stdout",
          "text": [
            "45\n",
            "[[1, 2, 3, 4], [1, 2, 3, 4], [2, 3, 4, 5], [3, 4, 5, 6]]\n"
          ]
        }
      ]
    },
    {
      "cell_type": "code",
      "source": [
        "item = (\"Med Kit\", 4)\n",
        "name = item[0]\n",
        "quantity = item[1]\n",
        "\n",
        "#item[1] = 10     wont work tuples imutable\n",
        "\n",
        "item = (\"Dr Stabby\", 1)\n",
        "print(item)\n",
        "\n",
        "print(name)\n",
        "print(quantity)\n",
        "\n",
        "print(item.count(\"Knife\"))\n",
        "print(item.count(\"Dr Stabby\"))\n",
        "print(item.index(\"Dr Stabby\"))\n",
        "#print(item.index(\"Knife\"))  error"
      ],
      "metadata": {
        "colab": {
          "base_uri": "https://localhost:8080/"
        },
        "id": "A2C_ItTvZqfq",
        "outputId": "6e0589c6-4406-405d-e7d3-99f7c29010b4"
      },
      "execution_count": 13,
      "outputs": [
        {
          "output_type": "stream",
          "name": "stdout",
          "text": [
            "('Dr Stabby', 1)\n",
            "Med Kit\n",
            "4\n",
            "0\n",
            "1\n",
            "0\n"
          ]
        }
      ]
    },
    {
      "cell_type": "code",
      "source": [
        "# dictionaries\n",
        "\n",
        "inventory = {\"Knife\": 1, \"Med Kit\": 3, \"Wood\": 5}\n",
        "print(inventory[\"Med Kit\"])\n",
        "\n",
        "inventory[\"Knife\"] = 2\n",
        "print(inventory)\n",
        "\n",
        "inventory[\"Gold\"] = 50\n",
        "print(inventory)\n",
        "\n"
      ],
      "metadata": {
        "colab": {
          "base_uri": "https://localhost:8080/"
        },
        "id": "7LPZgGSVjBIW",
        "outputId": "1902a11e-2ed3-48ef-943e-edbed52b530a"
      },
      "execution_count": 14,
      "outputs": [
        {
          "output_type": "stream",
          "name": "stdout",
          "text": [
            "3\n",
            "{'Knife': 2, 'Med Kit': 3, 'Wood': 5}\n",
            "{'Knife': 2, 'Med Kit': 3, 'Wood': 5, 'Gold': 50}\n"
          ]
        }
      ]
    },
    {
      "cell_type": "code",
      "source": [
        "#more dictionary stuff\n",
        "inventory = {\"Knife\": 1, \"Med Kit\": 3, \"Wood\": 5}\n",
        "\n",
        "print(inventory.get(\"Gold\"))\n",
        "print(inventory.keys())\n",
        "print(inventory.values())\n",
        "\n",
        "inventory.pop(\"Knife\")\n",
        "print(inventory)\n"
      ],
      "metadata": {
        "colab": {
          "base_uri": "https://localhost:8080/"
        },
        "id": "5S6AEb0GkyzF",
        "outputId": "befc4fd0-7a8c-4c07-d97f-085fa9cbeb64"
      },
      "execution_count": 15,
      "outputs": [
        {
          "output_type": "stream",
          "name": "stdout",
          "text": [
            "None\n",
            "dict_keys(['Knife', 'Med Kit', 'Wood'])\n",
            "dict_values([1, 3, 5])\n",
            "{'Med Kit': 3, 'Wood': 5}\n"
          ]
        }
      ]
    },
    {
      "cell_type": "code",
      "source": [
        "#Ranges\n",
        "\n",
        "# range(x, y, z)\n",
        "# x = first int included in range\n",
        "# y = end point of range NOT INCLUDED\n",
        "# z = step  IE step 2 = every other int\n",
        "\n"
      ],
      "metadata": {
        "id": "FyzpO_pAmVN1"
      },
      "execution_count": 16,
      "outputs": []
    }
  ]
}